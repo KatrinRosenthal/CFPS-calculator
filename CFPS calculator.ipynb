{
 "cells": [
  {
   "cell_type": "markdown",
   "id": "f7afd651",
   "metadata": {
    "hide_input": false
   },
   "source": [
    "# Welcome to the CFPS calculator\n",
    "\n",
    "#### The maximally achievable protein concentration and fractional protein yield (ratio of achieved and achievable concentration) of your CFPS experiment will be calculated\n",
    "###### Please follow the instructions. "
   ]
  },
  {
   "cell_type": "code",
   "execution_count": null,
   "id": "8d80d583",
   "metadata": {
    "hide_input": false
   },
   "outputs": [],
   "source": [
    "from collections import Counter\n",
    "AA_seq = input(\"Enter the amino acid sequence of your protein in capital letters: \")"
   ]
  },
  {
   "cell_type": "code",
   "execution_count": null,
   "id": "d693b25b",
   "metadata": {
    "hide_input": true
   },
   "outputs": [],
   "source": [
    "counter = Counter(AA_seq)"
   ]
  },
  {
   "cell_type": "code",
   "execution_count": null,
   "id": "f6265c81",
   "metadata": {
    "hide_input": true
   },
   "outputs": [],
   "source": [
    "print(\"Enter the concentration of each amino acid used for your CFPS experiment: \")\n",
    "\n",
    "def print(*args):\n",
    "    __builtins__.print(*(\"%.3f\" % a if isinstance(a, float) else a\n",
    "                         for a in args))\n",
    "\n",
    "AA_conc_A = input(\"Alanine concentration in mM: \")\n",
    "AA_conc_R = input(\"Arginine concentration in mM: \")\n",
    "AA_conc_N = input(\"Asparagine concentration in mM: \")\n",
    "AA_conc_D = input(\"Aspartic acid concentration in mM: \")\n",
    "AA_conc_C = input(\"Cysteine concentration in mM: \")\n",
    "AA_conc_Q = input(\"Glutamine concentration in mM: \")\n",
    "AA_conc_E = input(\"Glutamic acid concentration in mM: \")\n",
    "AA_conc_G = input(\"Glycine concentration in mM: \")\n",
    "AA_conc_H = input(\"Histidine concentration in mM: \")\n",
    "AA_conc_I = input(\"Isoleucine concentration in mM: \")\n",
    "AA_conc_L = input(\"Leucine concentration in mM: \")\n",
    "AA_conc_K = input(\"Lysine concentration in mM: \")\n",
    "AA_conc_M = input(\"Methionine concentration in mM: \")\n",
    "AA_conc_F = input(\"Phenylalanine concentration in mM: \")\n",
    "AA_conc_P = input(\"Proline concentration in mM: \")\n",
    "AA_conc_S = input(\"Serine concentration in mM: \")\n",
    "AA_conc_T = input(\"Threonine concentration in mM: \")\n",
    "AA_conc_W = input(\"Tryptophane concentration in mM: \")\n",
    "AA_conc_Y = input(\"Tyrosine concentration in mM: \")\n",
    "AA_conc_V = input(\"Valine concentration in mM: \")\n",
    "\n",
    "\n",
    "\n"
   ]
  },
  {
   "cell_type": "code",
   "execution_count": null,
   "id": "b0360f60",
   "metadata": {
    "hide_input": true,
    "scrolled": true
   },
   "outputs": [],
   "source": [
    "def print(*args):\n",
    "    __builtins__.print(*(\"%.3f\" % a if isinstance(a, float) else a\n",
    "                         for a in args))\n",
    "\n",
    "import matplotlib.pyplot as plt\n",
    "%matplotlib inline\n",
    "\n",
    "data = {'A':float(AA_conc_A)/float(counter['A']), 'R':float(AA_conc_R)/float(counter['R']), 'N':float(AA_conc_N)/float(counter['N']), 'D':float(AA_conc_D)/float(counter['D']), 'C':float(AA_conc_C)/float(counter['C']), 'Q':float(AA_conc_Q)/float(counter['Q']), 'E':float(AA_conc_E)/float(counter['E']), 'G':float(AA_conc_G)/float(counter['G']), 'H':float(AA_conc_H)/float(counter['H']), 'I':float(AA_conc_I)/float(counter['I']), 'L':float(AA_conc_L)/float(counter['L']), 'K':float(AA_conc_K)/float(counter['K']), 'M':float(AA_conc_M)/float(counter['M']), 'F':float(AA_conc_F)/float(counter['F']), 'P':float(AA_conc_P)/float(counter['P']), 'S':float(AA_conc_S)/float(counter['S']), 'T':float(AA_conc_T)/float(counter['T']), 'W':float(AA_conc_W)/float(counter['W']), 'Y':float(AA_conc_Y)/float(counter['Y']), 'V':float(AA_conc_V)/float(counter['V'])}\n",
    "names = list(data.keys())\n",
    "values = list(data.values())\n",
    "\n",
    "import numpy as np\n",
    "min_x = np.argmin(values)\n",
    "min_y = np.min(values)\n",
    "\n",
    "plt.bar(names, values)\n",
    "\n",
    "plt.ylabel('Achievable protein concentration [mM]')\n",
    "plt.xlabel('Amino acid')\n",
    "\n",
    "plt.bar(min_x, min_y, label='minimum')\n",
    "plt.legend()\n",
    "\n"
   ]
  },
  {
   "cell_type": "code",
   "execution_count": null,
   "id": "0e3003bd",
   "metadata": {
    "hide_input": true
   },
   "outputs": [],
   "source": [
    "print(\"The maximally achievable protein concentration is \", min(float(AA_conc_A)/float(counter['A']), float(AA_conc_R)/float(counter['R']), float(AA_conc_N)/float(counter['N']), float(AA_conc_D)/float(counter['D']), float(AA_conc_C)/float(counter['C']), float(AA_conc_Q)/float(counter['Q']), float(AA_conc_E)/float(counter['E']), float(AA_conc_G)/float(counter['G']), float(AA_conc_H)/float(counter['H']), float(AA_conc_I)/float(counter['I']), float(AA_conc_L)/float(counter['L']), float(AA_conc_K)/float(counter['K']), float(AA_conc_M)/float(counter['M']), float(AA_conc_F)/float(counter['F']), float(AA_conc_P)/float(counter['P']), float(AA_conc_S)/float(counter['S']), float(AA_conc_T)/float(counter['T']), float(AA_conc_W)/float(counter['W']), float(AA_conc_Y)/float(counter['Y']), float(AA_conc_V)/float(counter['V'])), \" mM.\")"
   ]
  },
  {
   "cell_type": "code",
   "execution_count": null,
   "id": "0ce7088c",
   "metadata": {
    "hide_input": true
   },
   "outputs": [],
   "source": [
    "exp_AA_conc = input(\"Enter the achieved protein concentration of your CFPS experiment [mM]: \")"
   ]
  },
  {
   "cell_type": "code",
   "execution_count": null,
   "id": "da1e7ab9",
   "metadata": {
    "hide_input": true
   },
   "outputs": [],
   "source": [
    "frac_yield = float(exp_AA_conc)/min(float(AA_conc_A)/float(counter['A']), float(AA_conc_R)/float(counter['R']), float(AA_conc_N)/float(counter['N']), float(AA_conc_D)/float(counter['D']), float(AA_conc_C)/float(counter['C']), float(AA_conc_Q)/float(counter['Q']), float(AA_conc_E)/float(counter['E']), float(AA_conc_G)/float(counter['G']), float(AA_conc_H)/float(counter['H']), float(AA_conc_I)/float(counter['I']), float(AA_conc_L)/float(counter['L']), float(AA_conc_K)/float(counter['K']), float(AA_conc_M)/float(counter['M']), float(AA_conc_F)/float(counter['F']), float(AA_conc_P)/float(counter['P']), float(AA_conc_S)/float(counter['S']), float(AA_conc_T)/float(counter['T']), float(AA_conc_W)/float(counter['W']), float(AA_conc_Y)/float(counter['Y']), float(AA_conc_V)/float(counter['V']))\n",
    "\n",
    "def print(*args):\n",
    "    __builtins__.print(*(\"%.0f\" % a if isinstance(a, float) else a\n",
    "                         for a in args))\n",
    "\n",
    "print(\"The fractional yield is\", float(frac_yield)*100, \"%.\")"
   ]
  }
 ],
 "metadata": {
  "kernelspec": {
   "display_name": "Python 3 (ipykernel)",
   "language": "python",
   "name": "python3"
  },
  "language_info": {
   "codemirror_mode": {
    "name": "ipython",
    "version": 3
   },
   "file_extension": ".py",
   "mimetype": "text/x-python",
   "name": "python",
   "nbconvert_exporter": "python",
   "pygments_lexer": "ipython3",
   "version": "3.9.13"
  }
 },
 "nbformat": 4,
 "nbformat_minor": 5
}
